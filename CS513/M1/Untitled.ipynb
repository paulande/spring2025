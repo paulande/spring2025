{
 "cells": [
  {
   "cell_type": "markdown",
   "id": "66742d88-61d9-4592-9c48-e6b125984a1a",
   "metadata": {},
   "source": [
    "Oregon State University\n",
    "CS513 Applied Machine Learning\n",
    "Spring 2025\n",
    "Paul Anderson\n",
    "\n",
    "Introduction to Using Jupyter Notebooks"
   ]
  },
  {
   "cell_type": "code",
   "execution_count": null,
   "id": "09ca05fe-e24e-430a-95db-bccf049cae46",
   "metadata": {},
   "outputs": [],
   "source": [
    "x = 5\n",
    "y = 3\n",
    "\n",
    "x+y"
   ]
  },
  {
   "cell_type": "code",
   "execution_count": 11,
   "id": "66118a19-b08b-40a0-b5b0-6cbc294ed39a",
   "metadata": {},
   "outputs": [
    {
     "data": {
      "text/plain": [
       "'This TF is version 2.10.0'"
      ]
     },
     "execution_count": 11,
     "metadata": {},
     "output_type": "execute_result"
    }
   ],
   "source": [
    "import tensorflow as tf\n",
    "version = str(tf.__version__)\n",
    "'This TF is version ' + version"
   ]
  },
  {
   "cell_type": "code",
   "execution_count": 12,
   "id": "734523af-02e7-4e89-ab4f-cf5f0dc5e853",
   "metadata": {},
   "outputs": [],
   "source": [
    "# alt + enter = execute cell and insert a cell directly after it\n",
    "# shift + enter = ex cell and highlight next cell"
   ]
  },
  {
   "cell_type": "code",
   "execution_count": 13,
   "id": "8663e4c1-b794-4691-9fa2-6fb0a73d7a18",
   "metadata": {
    "collapsed": true,
    "jupyter": {
     "outputs_hidden": true
    }
   },
   "outputs": [
    {
     "ename": "TypeError",
     "evalue": "__init__() missing 1 required positional argument: 'feature_columns'",
     "output_type": "error",
     "traceback": [
      "\u001b[1;31m---------------------------------------------------------------------------\u001b[0m",
      "\u001b[1;31mTypeError\u001b[0m                                 Traceback (most recent call last)",
      "Cell \u001b[1;32mIn[13], line 2\u001b[0m\n\u001b[0;32m      1\u001b[0m \u001b[38;5;66;03m# try using shift + Tab in the function - it brings up the doc string - this works for your own functions as well\u001b[39;00m\n\u001b[1;32m----> 2\u001b[0m \u001b[43mtf\u001b[49m\u001b[38;5;241;43m.\u001b[39;49m\u001b[43mestimator\u001b[49m\u001b[38;5;241;43m.\u001b[39;49m\u001b[43mLinearClassifier\u001b[49m\u001b[43m(\u001b[49m\u001b[43m)\u001b[49m\n",
      "\u001b[1;31mTypeError\u001b[0m: __init__() missing 1 required positional argument: 'feature_columns'"
     ]
    }
   ],
   "source": [
    "# try using shift + Tab in the function - it brings up the doc string - this works for your own functions as well\n",
    "tf.estimator.LinearClassifier()"
   ]
  },
  {
   "cell_type": "code",
   "execution_count": 6,
   "id": "75c9acc4-dde0-4296-921d-5cb33c63888b",
   "metadata": {
    "collapsed": true,
    "jupyter": {
     "outputs_hidden": true
    },
    "scrolled": true
   },
   "outputs": [
    {
     "name": "stdout",
     "output_type": "stream",
     "text": [
      "I'm printing output 0\n",
      "I'm printing output 1\n",
      "I'm printing output 2\n",
      "I'm printing output 3\n",
      "I'm printing output 4\n",
      "I'm printing output 5\n",
      "I'm printing output 6\n",
      "I'm printing output 7\n",
      "I'm printing output 8\n",
      "I'm printing output 9\n",
      "I'm printing output 10\n",
      "I'm printing output 11\n",
      "I'm printing output 12\n",
      "I'm printing output 13\n",
      "I'm printing output 14\n",
      "I'm printing output 15\n",
      "I'm printing output 16\n",
      "I'm printing output 17\n",
      "I'm printing output 18\n",
      "I'm printing output 19\n",
      "I'm printing output 20\n",
      "I'm printing output 21\n",
      "I'm printing output 22\n",
      "I'm printing output 23\n",
      "I'm printing output 24\n",
      "I'm printing output 25\n",
      "I'm printing output 26\n",
      "I'm printing output 27\n",
      "I'm printing output 28\n",
      "I'm printing output 29\n",
      "I'm printing output 30\n",
      "I'm printing output 31\n",
      "I'm printing output 32\n",
      "I'm printing output 33\n",
      "I'm printing output 34\n",
      "I'm printing output 35\n",
      "I'm printing output 36\n",
      "I'm printing output 37\n",
      "I'm printing output 38\n",
      "I'm printing output 39\n"
     ]
    }
   ],
   "source": [
    "# clicking on the left hand panel changes the output visibility\n",
    "for i in range (0,40):\n",
    "    print(\"I'm printing output {}\".format(i))  "
   ]
  },
  {
   "cell_type": "code",
   "execution_count": 10,
   "id": "736c0e3b-1315-413e-b855-b2da5dab99a9",
   "metadata": {},
   "outputs": [
    {
     "data": {
      "text/plain": [
       "\"I'm a new cell\""
      ]
     },
     "execution_count": 10,
     "metadata": {},
     "output_type": "execute_result"
    }
   ],
   "source": [
    "# ctrl + enter will run this cell\n",
    "# shift + enter will run this cell and create a new cell, or highlight the next one\n",
    "\"I'm a new cell\""
   ]
  },
  {
   "cell_type": "markdown",
   "id": "5a61ae43-f138-4790-bb36-1a217a08f883",
   "metadata": {},
   "source": [
    "This is a LOT like using RStudio as it's a .md and .py mixed envinronment"
   ]
  },
  {
   "cell_type": "code",
   "execution_count": 20,
   "id": "b22f7817-7b3e-42a0-a868-e49b0d73f095",
   "metadata": {},
   "outputs": [
    {
     "name": "stdout",
     "output_type": "stream",
     "text": [
      "I'm timing output 0\n",
      "I'm timing output 1\n",
      "I'm timing output 2\n",
      "I'm timing output 3\n",
      "I'm timing output 4\n",
      "I'm timing output 5\n",
      "I'm timing output 6\n",
      "I'm timing output 7\n",
      "I'm timing output 8\n",
      "I'm timing output 9\n",
      "I'm timing output 10\n",
      "I'm timing output 11\n",
      "I'm timing output 12\n",
      "I'm timing output 13\n",
      "I'm timing output 14\n",
      "I'm timing output 15\n",
      "I'm timing output 16\n",
      "I'm timing output 17\n",
      "I'm timing output 18\n",
      "I'm timing output 19\n",
      "I'm timing output 20\n",
      "I'm timing output 21\n",
      "I'm timing output 22\n",
      "I'm timing output 23\n",
      "I'm timing output 24\n",
      "I'm timing output 25\n",
      "I'm timing output 26\n",
      "I'm timing output 27\n",
      "I'm timing output 28\n",
      "I'm timing output 29\n",
      "I'm timing output 30\n",
      "I'm timing output 31\n",
      "I'm timing output 32\n",
      "I'm timing output 33\n",
      "I'm timing output 34\n",
      "I'm timing output 35\n",
      "I'm timing output 36\n",
      "I'm timing output 37\n",
      "I'm timing output 38\n",
      "I'm timing output 39\n",
      "CPU times: total: 0 ns\n",
      "Wall time: 998 µs\n"
     ]
    }
   ],
   "source": [
    "%%time \n",
    "# %%time must be at the start of the block, cannot comment above it, or in the same line as it\n",
    "for i in range (0,40):\n",
    "    print(\"I'm timing output {}\".format(i))"
   ]
  },
  {
   "cell_type": "markdown",
   "id": "87161e42-4fcb-47f7-825b-a1e18aaccbe6",
   "metadata": {},
   "source": [
    "Want to run a cmd line command in your notebook?"
   ]
  },
  {
   "cell_type": "code",
   "execution_count": 22,
   "id": "3b6b5da8-aae4-4aa8-9775-2717148b1636",
   "metadata": {},
   "outputs": [
    {
     "name": "stderr",
     "output_type": "stream",
     "text": [
      "Error: gsutil requires Python version 3.8-3.12, but a different version is installed.\n",
      "You are currently running Python 3.13\n",
      "Follow the steps below to resolve this issue:\n",
      "\t1. Switch to Python 3.8-3.12 using your Python version manager or install an appropriate version.\n",
      "\t2. If you are unsure how to manage Python versions, visit [https://cloud.google.com/storage/docs/gsutil_install#specifications] for detailed instructions.\n"
     ]
    }
   ],
   "source": [
    "# place a ! in front of it\n",
    "!gsutil ls gs://cloudml-public/census/data"
   ]
  },
  {
   "cell_type": "markdown",
   "id": "afeeb298-b6f4-4501-9a6f-0d7921ba00be",
   "metadata": {},
   "source": [
    "If you want to write something longer for bash, use %%bash at the top of the chunk."
   ]
  },
  {
   "cell_type": "code",
   "execution_count": 26,
   "id": "18f4541e-f013-4f43-9ddc-1dddcfa738da",
   "metadata": {},
   "outputs": [
    {
     "name": "stdout",
     "output_type": "stream",
     "text": [
      "Couldn't find program: 'bash'\n"
     ]
    }
   ],
   "source": [
    "%%bash\n",
    "ls\n",
    "pwd\n",
    "whoami"
   ]
  },
  {
   "cell_type": "code",
   "execution_count": 27,
   "id": "1fdd96a2-34ad-4558-9915-804eefe0a511",
   "metadata": {},
   "outputs": [
    {
     "name": "stdout",
     "output_type": "stream",
     "text": [
      "Requirement already satisfied: bash_kernel in c:\\users\\ander\\anaconda3\\envs\\jupyter\\lib\\site-packages (0.10.0)\n",
      "Requirement already satisfied: pexpect>=4.0 in c:\\users\\ander\\anaconda3\\envs\\jupyter\\lib\\site-packages (from bash_kernel) (4.9.0)\n",
      "Requirement already satisfied: ipykernel in c:\\users\\ander\\anaconda3\\envs\\jupyter\\lib\\site-packages (from bash_kernel) (6.29.5)\n",
      "Requirement already satisfied: filetype in c:\\users\\ander\\anaconda3\\envs\\jupyter\\lib\\site-packages (from bash_kernel) (1.2.0)\n",
      "Requirement already satisfied: ptyprocess>=0.5 in c:\\users\\ander\\anaconda3\\envs\\jupyter\\lib\\site-packages (from pexpect>=4.0->bash_kernel) (0.7.0)\n",
      "Requirement already satisfied: comm>=0.1.1 in c:\\users\\ander\\anaconda3\\envs\\jupyter\\lib\\site-packages (from ipykernel->bash_kernel) (0.2.1)\n",
      "Requirement already satisfied: debugpy>=1.6.5 in c:\\users\\ander\\anaconda3\\envs\\jupyter\\lib\\site-packages (from ipykernel->bash_kernel) (1.8.11)\n",
      "Requirement already satisfied: ipython>=7.23.1 in c:\\users\\ander\\anaconda3\\envs\\jupyter\\lib\\site-packages (from ipykernel->bash_kernel) (8.15.0)\n",
      "Requirement already satisfied: jupyter-client>=6.1.12 in c:\\users\\ander\\anaconda3\\envs\\jupyter\\lib\\site-packages (from ipykernel->bash_kernel) (8.6.3)\n",
      "Requirement already satisfied: jupyter-core!=5.0.*,>=4.12 in c:\\users\\ander\\anaconda3\\envs\\jupyter\\lib\\site-packages (from ipykernel->bash_kernel) (5.7.2)\n",
      "Requirement already satisfied: matplotlib-inline>=0.1 in c:\\users\\ander\\anaconda3\\envs\\jupyter\\lib\\site-packages (from ipykernel->bash_kernel) (0.1.6)\n",
      "Requirement already satisfied: nest-asyncio in c:\\users\\ander\\anaconda3\\envs\\jupyter\\lib\\site-packages (from ipykernel->bash_kernel) (1.6.0)\n",
      "Requirement already satisfied: packaging in c:\\users\\ander\\anaconda3\\envs\\jupyter\\lib\\site-packages (from ipykernel->bash_kernel) (24.2)\n",
      "Requirement already satisfied: psutil in c:\\users\\ander\\anaconda3\\envs\\jupyter\\lib\\site-packages (from ipykernel->bash_kernel) (5.9.0)\n",
      "Requirement already satisfied: pyzmq>=24 in c:\\users\\ander\\anaconda3\\envs\\jupyter\\lib\\site-packages (from ipykernel->bash_kernel) (26.2.0)\n",
      "Requirement already satisfied: tornado>=6.1 in c:\\users\\ander\\anaconda3\\envs\\jupyter\\lib\\site-packages (from ipykernel->bash_kernel) (6.4.2)\n",
      "Requirement already satisfied: traitlets>=5.4.0 in c:\\users\\ander\\anaconda3\\envs\\jupyter\\lib\\site-packages (from ipykernel->bash_kernel) (5.14.3)\n",
      "Requirement already satisfied: backcall in c:\\users\\ander\\anaconda3\\envs\\jupyter\\lib\\site-packages (from ipython>=7.23.1->ipykernel->bash_kernel) (0.2.0)\n",
      "Requirement already satisfied: decorator in c:\\users\\ander\\anaconda3\\envs\\jupyter\\lib\\site-packages (from ipython>=7.23.1->ipykernel->bash_kernel) (5.1.1)\n",
      "Requirement already satisfied: jedi>=0.16 in c:\\users\\ander\\anaconda3\\envs\\jupyter\\lib\\site-packages (from ipython>=7.23.1->ipykernel->bash_kernel) (0.19.2)\n",
      "Requirement already satisfied: pickleshare in c:\\users\\ander\\anaconda3\\envs\\jupyter\\lib\\site-packages (from ipython>=7.23.1->ipykernel->bash_kernel) (0.7.5)\n",
      "Requirement already satisfied: prompt-toolkit!=3.0.37,<3.1.0,>=3.0.30 in c:\\users\\ander\\anaconda3\\envs\\jupyter\\lib\\site-packages (from ipython>=7.23.1->ipykernel->bash_kernel) (3.0.43)\n",
      "Requirement already satisfied: pygments>=2.4.0 in c:\\users\\ander\\anaconda3\\envs\\jupyter\\lib\\site-packages (from ipython>=7.23.1->ipykernel->bash_kernel) (2.15.1)\n",
      "Requirement already satisfied: stack-data in c:\\users\\ander\\anaconda3\\envs\\jupyter\\lib\\site-packages (from ipython>=7.23.1->ipykernel->bash_kernel) (0.2.0)\n",
      "Requirement already satisfied: typing-extensions in c:\\users\\ander\\anaconda3\\envs\\jupyter\\lib\\site-packages (from ipython>=7.23.1->ipykernel->bash_kernel) (4.12.2)\n",
      "Requirement already satisfied: exceptiongroup in c:\\users\\ander\\anaconda3\\envs\\jupyter\\lib\\site-packages (from ipython>=7.23.1->ipykernel->bash_kernel) (1.2.0)\n",
      "Requirement already satisfied: colorama in c:\\users\\ander\\anaconda3\\envs\\jupyter\\lib\\site-packages (from ipython>=7.23.1->ipykernel->bash_kernel) (0.4.6)\n",
      "Requirement already satisfied: importlib-metadata>=4.8.3 in c:\\users\\ander\\anaconda3\\envs\\jupyter\\lib\\site-packages (from jupyter-client>=6.1.12->ipykernel->bash_kernel) (8.5.0)\n",
      "Requirement already satisfied: python-dateutil>=2.8.2 in c:\\users\\ander\\anaconda3\\envs\\jupyter\\lib\\site-packages (from jupyter-client>=6.1.12->ipykernel->bash_kernel) (2.9.0.post0)\n",
      "Requirement already satisfied: platformdirs>=2.5 in c:\\users\\ander\\anaconda3\\envs\\jupyter\\lib\\site-packages (from jupyter-core!=5.0.*,>=4.12->ipykernel->bash_kernel) (3.10.0)\n",
      "Requirement already satisfied: pywin32>=300 in c:\\users\\ander\\anaconda3\\envs\\jupyter\\lib\\site-packages (from jupyter-core!=5.0.*,>=4.12->ipykernel->bash_kernel) (308)\n",
      "Requirement already satisfied: zipp>=3.20 in c:\\users\\ander\\anaconda3\\envs\\jupyter\\lib\\site-packages (from importlib-metadata>=4.8.3->jupyter-client>=6.1.12->ipykernel->bash_kernel) (3.21.0)\n",
      "Requirement already satisfied: parso<0.9.0,>=0.8.4 in c:\\users\\ander\\anaconda3\\envs\\jupyter\\lib\\site-packages (from jedi>=0.16->ipython>=7.23.1->ipykernel->bash_kernel) (0.8.4)\n",
      "Requirement already satisfied: wcwidth in c:\\users\\ander\\anaconda3\\envs\\jupyter\\lib\\site-packages (from prompt-toolkit!=3.0.37,<3.1.0,>=3.0.30->ipython>=7.23.1->ipykernel->bash_kernel) (0.2.5)\n",
      "Requirement already satisfied: six>=1.5 in c:\\users\\ander\\anaconda3\\envs\\jupyter\\lib\\site-packages (from python-dateutil>=2.8.2->jupyter-client>=6.1.12->ipykernel->bash_kernel) (1.16.0)\n",
      "Requirement already satisfied: executing in c:\\users\\ander\\anaconda3\\envs\\jupyter\\lib\\site-packages (from stack-data->ipython>=7.23.1->ipykernel->bash_kernel) (0.8.3)\n",
      "Requirement already satisfied: asttokens in c:\\users\\ander\\anaconda3\\envs\\jupyter\\lib\\site-packages (from stack-data->ipython>=7.23.1->ipykernel->bash_kernel) (2.0.5)\n",
      "Requirement already satisfied: pure-eval in c:\\users\\ander\\anaconda3\\envs\\jupyter\\lib\\site-packages (from stack-data->ipython>=7.23.1->ipykernel->bash_kernel) (0.2.2)\n"
     ]
    }
   ],
   "source": [
    "!pip install bash_kernel"
   ]
  },
  {
   "cell_type": "code",
   "execution_count": 29,
   "id": "c6af2223-bd11-415e-9204-84351b5a0167",
   "metadata": {},
   "outputs": [
    {
     "name": "stdout",
     "output_type": "stream",
     "text": [
      "Installing IPython kernel spec\n"
     ]
    }
   ],
   "source": [
    "!python -m bash_kernel.install"
   ]
  },
  {
   "cell_type": "code",
   "execution_count": 30,
   "id": "6c17ad2b-d26c-4346-91d4-0ec204033545",
   "metadata": {},
   "outputs": [
    {
     "name": "stdout",
     "output_type": "stream",
     "text": [
      "Couldn't find program: 'bash'\n"
     ]
    }
   ],
   "source": [
    "%%bash\n",
    "ls\n",
    "pwd\n",
    "whoami"
   ]
  },
  {
   "cell_type": "markdown",
   "id": "a97ab13b-5618-41d4-980b-ea84d8ef0e1c",
   "metadata": {},
   "source": [
    "Running these command line tools right from your coding space can be really handy."
   ]
  },
  {
   "cell_type": "code",
   "execution_count": 32,
   "id": "09c7f5c3-79be-4b61-8623-07e205bc242b",
   "metadata": {},
   "outputs": [
    {
     "name": "stdout",
     "output_type": "stream",
     "text": [
      "^C\n"
     ]
    }
   ],
   "source": [
    "!tensorboard --logdir=/tmp/MNIST_data"
   ]
  },
  {
   "cell_type": "code",
   "execution_count": null,
   "id": "c1e9b283-f302-4154-b296-ded3f81037c0",
   "metadata": {},
   "outputs": [],
   "source": []
  }
 ],
 "metadata": {
  "kernelspec": {
   "display_name": "Python 3 (ipykernel)",
   "language": "python",
   "name": "python3"
  },
  "language_info": {
   "codemirror_mode": {
    "name": "ipython",
    "version": 3
   },
   "file_extension": ".py",
   "mimetype": "text/x-python",
   "name": "python",
   "nbconvert_exporter": "python",
   "pygments_lexer": "ipython3",
   "version": "3.9.21"
  }
 },
 "nbformat": 4,
 "nbformat_minor": 5
}
